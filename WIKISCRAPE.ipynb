{
 "cells": [
  {
   "cell_type": "code",
   "execution_count": null,
   "metadata": {},
   "outputs": [],
   "source": [
    "import requests,bs4"
   ]
  },
  {
   "cell_type": "code",
   "execution_count": null,
   "metadata": {},
   "outputs": [],
   "source": [
    "res = requests.get(\"https://en.wikipedia.org/wiki/Isaac_Newton\")"
   ]
  },
  {
   "cell_type": "code",
   "execution_count": null,
   "metadata": {},
   "outputs": [],
   "source": [
    "res.text"
   ]
  },
  {
   "cell_type": "code",
   "execution_count": null,
   "metadata": {},
   "outputs": [],
   "source": [
    "soup = bs4.BeautifulSoup(res.text)"
   ]
  },
  {
   "cell_type": "code",
   "execution_count": null,
   "metadata": {},
   "outputs": [],
   "source": [
    "soup"
   ]
  },
  {
   "cell_type": "code",
   "execution_count": null,
   "metadata": {},
   "outputs": [],
   "source": [
    "print(soup.prettify())"
   ]
  },
  {
   "cell_type": "code",
   "execution_count": null,
   "metadata": {},
   "outputs": [],
   "source": [
    "soup.select(\".toctext\")"
   ]
  },
  {
   "cell_type": "code",
   "execution_count": null,
   "metadata": {},
   "outputs": [],
   "source": [
    "for item in soup.select(\".toctext\"):\n",
    "    print(item.text)"
   ]
  },
  {
   "cell_type": "code",
   "execution_count": null,
   "metadata": {},
   "outputs": [],
   "source": [
    "soup.select(\".mw-headline\")"
   ]
  },
  {
   "cell_type": "code",
   "execution_count": null,
   "metadata": {},
   "outputs": [],
   "source": [
    "soup.select(\"p\")"
   ]
  },
  {
   "cell_type": "code",
   "execution_count": null,
   "metadata": {},
   "outputs": [],
   "source": [
    "soup.find_all(\"p\" , attrs = {\"class\":\"mw-headline\"})"
   ]
  },
  {
   "cell_type": "code",
   "execution_count": null,
   "metadata": {},
   "outputs": [],
   "source": [
    "soup.find_all(\"span\")"
   ]
  },
  {
   "cell_type": "code",
   "execution_count": null,
   "metadata": {},
   "outputs": [],
   "source": [
    "soup.find_all(class_ = \"mw-headline\")"
   ]
  },
  {
   "cell_type": "code",
   "execution_count": null,
   "metadata": {},
   "outputs": [],
   "source": []
  },
  {
   "cell_type": "code",
   "execution_count": 7,
   "metadata": {},
   "outputs": [
    {
     "name": "stdout",
     "output_type": "stream",
     "text": [
      "Enter searchwow\n",
      "https://en.wikipedia.org/wiki/wow\n",
      "1  :  Games and toys\n",
      "2  :  Music\n",
      "3  :  Albums\n",
      "4  :  Songs\n",
      "5  :  Organizations and companies\n",
      "6  :  Places\n",
      "7  :  People\n",
      "8  :  Publications\n",
      "9  :  Television, radio and film\n",
      "10  :  Transport\n",
      "11  :  Other\n",
      "12  :  See also\n",
      "Enter the subtopic you want\n",
      "1\n",
      "\n",
      "\n",
      "\n",
      "Games and toys\n",
      "\n",
      "World of Warcraft, a massively multiplayer online role-playing game\n",
      "World of Warplanes, an online flight simulator\n",
      "World of Warships, an online naval simulator\n",
      "Wizard of Wor, a 1981 arcade game by Midway\n",
      "Sega Wow, a video game company\n",
      "Worlds of Wonder (toy company), a 1980s American toy company\n",
      "Search again? 1 for yes, 0 for no.1\n",
      "Enter the subtopic you want\n",
      "2\n",
      "\n",
      "\n",
      "\n",
      "Music\n",
      "\n",
      "Wow (band), a Dutch 1990s girl group\n",
      "WOW Music, a Hong Kong record label\n",
      "SRS Wow, and SRS Wow HD, an audio enhancement suite of Sound Retrieval System technologies\n",
      "Wow, a member of the animated girl group VBirds\n",
      "Albums\n",
      "WOW (Wendy O. Williams album), a 1984 album by Wendy O. Williams\n",
      "Wow! (Bananarama album), 1987\n",
      "Wow! (Bill Doggett album), 1965\n",
      "Wow/Grape Jam, a 1968 album by Moby Grape\n",
      "WOW (Junko Onishi album), 1993\n",
      "WOW (Mouse on Mars album), a 2012 mini album by Mouse on Mars\n",
      "Wow (Superbus album), 2006\n",
      "Wow (Bibi Zhou album), 2007\n",
      "Wow (Verdena album), 2011\n",
      "WOW series, a series of compilation albums of contemporary Christian music\n",
      "Songs\n",
      "\"Wow\" (Kate Bush song)\n",
      "\"Wow\" (Kylie Minogue song)\n",
      "\"Wow\" (Ruslana song)\n",
      "\"Wow\" (Inna song)\n",
      "\"Wow\" (Beck song)\n",
      "\"Wow\" (Marilyn Manson song)\n",
      "\"Wow\" (Post Malone song)\n",
      "\"Wow\" (Zara Larsson song)\n",
      "Search again? 1 for yes, 0 for no.0\n"
     ]
    }
   ],
   "source": [
    "import requests,bs4\n",
    "base_url = 'https://en.wikipedia.org/wiki/{}'\n",
    "flag = True\n",
    "count = 0\n",
    "while(flag):\n",
    "    search = input(\"Enter search\")\n",
    "    search = search.split()\n",
    "    search = \"_\".join(search)\n",
    "    print(base_url.format(search))\n",
    "\n",
    "\n",
    "    try:\n",
    "        res = requests.get(base_url.format(search))\n",
    "    #     res = requests.get(\"https://en.wikipedia.org/wiki/isac\")\n",
    "    except requests.exceptions.RequestException as e:  # This is the correct syntax\n",
    "        raise SystemExit(e)\n",
    "\n",
    "\n",
    "# res = requests.get(\"https://en.wikipedia.org/wiki/Isaac_Newton\")\n",
    "# res = requests.get(\"https://en.wikipedia.org/wiki/Great_Famine_(Ireland)\")\n",
    "# res = requests.get(base_url.format(search))\n",
    "    soup = bs4.BeautifulSoup(res.text)\n",
    "\n",
    "  \n",
    "    if(len(soup.select(\".toctext\")) == 0):\n",
    "        print(\"Invalid link\")\n",
    "    else:\n",
    "        flag = False\n",
    "        \n",
    "for pos,item in enumerate(soup.select(\".toctext\"),1):\n",
    "    if(item.text == \"External links\"):\n",
    "        break\n",
    "    count+=1\n",
    "    print(pos,\" : \",item.text)\n",
    "\n",
    "#choose item\n",
    "exit = True\n",
    "while(exit):\n",
    "    flag = True\n",
    "    while(flag):\n",
    "        n = input(\"Enter the subtopic you want\\n\")\n",
    "        if(n.isdigit()):\n",
    "            if(int(n) <= count and int(n) >0):\n",
    "                flag = False\n",
    "                n = int(n)\n",
    "            else:\n",
    "                print(\"lmao\")\n",
    "        else:\n",
    "            print(\"lmao\")\n",
    "\n",
    "    headlines = soup.select(\".mw-headline\")\n",
    "\n",
    "    first_link = soup.find_all(class_ = \"mw-headline\")[n-1]\n",
    "\n",
    "\n",
    "    #find all elements of type that come after\n",
    "    ans = first_link.find_all_next([\"p\",\"span\",\"li\"])\n",
    "\n",
    "    #output\n",
    "    print(\"\\n\\n\")\n",
    "\n",
    "    #check whether firstlink.parent is h3 or h2\n",
    "    #if parents is h2, then print all paragraphs and h3 until the next h2.\n",
    "    #if parents is h3, then print all paragraphs until next h2 or h3\n",
    "    print(first_link.text)\n",
    "    print()\n",
    "\n",
    "\n",
    "    if(first_link.parent.name == \"h3\" or first_link.parent.name == \"h4\"):\n",
    "        for item in ans:\n",
    "            if(item != first_link.find_next(class_ = \"mw-headline\")):\n",
    "                print(item.text)\n",
    "            else:\n",
    "                break\n",
    "\n",
    "    elif(first_link.parent.name == \"h2\"):\n",
    "        for item in ans:\n",
    "            if(item.parent != first_link.find_next(\"h2\")):\n",
    "                if((item.name == \"span\" and item in headlines) or item.name == \"p\" or (item.name == \"li\" and (item.parent.parent.name == \"div\"))):\n",
    "                    print(item.text)\n",
    "                else:\n",
    "                    pass\n",
    "            else:\n",
    "                break\n",
    "    ans = True\n",
    "    while(ans):\n",
    "        ans = input(\"Search again? 1 for yes, 0 for no.\")\n",
    "        if(ans!= \"1\" and ans!=\"0\"):\n",
    "            print(\"Invalid input, enter again.\")\n",
    "        else:\n",
    "            if(ans == \"1\"):\n",
    "                pass\n",
    "            else:\n",
    "                exit = False\n",
    "            ans = False\n",
    "            \n",
    "    \n",
    "\n",
    "# for item in ans:\n",
    "#     if(item != first_link.find_next(class_ = \"mw-headline\")):\n",
    "#         print(item.text)\n",
    "#     else:\n",
    "#         break\n",
    "        \n",
    "#need to make an end condition"
   ]
  },
  {
   "cell_type": "code",
   "execution_count": null,
   "metadata": {},
   "outputs": [],
   "source": [
    "\n",
    "\n",
    "\n",
    "\n",
    "\n",
    "\n",
    "\n",
    "\n",
    "\n",
    "\n",
    "\n",
    "\n",
    "12"
   ]
  }
 ],
 "metadata": {
  "kernelspec": {
   "display_name": "Python 3",
   "language": "python",
   "name": "python3"
  },
  "language_info": {
   "codemirror_mode": {
    "name": "ipython",
    "version": 3
   },
   "file_extension": ".py",
   "mimetype": "text/x-python",
   "name": "python",
   "nbconvert_exporter": "python",
   "pygments_lexer": "ipython3",
   "version": "3.7.6"
  }
 },
 "nbformat": 4,
 "nbformat_minor": 4
}
